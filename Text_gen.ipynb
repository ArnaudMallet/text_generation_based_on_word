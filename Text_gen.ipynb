{
 "cells": [
  {
   "cell_type": "markdown",
   "metadata": {},
   "source": [
    "# Skip-gram Word2Vec\n",
    "\n",
    "In this notebook, I'll lead you through using PyTorch to implement the [Word2Vec algorithm](https://en.wikipedia.org/wiki/Word2vec) using the skip-gram architecture. By implementing this, you'll learn about embedding words for use in natural language processing. This will come in handy when dealing with things like machine translation.\n",
    "\n",
    "## Readings\n",
    "\n",
    "Here are the resources I used to build this notebook. I suggest reading these either beforehand or while you're working on this material.\n",
    "\n",
    "* A really good [conceptual overview](http://mccormickml.com/2016/04/19/word2vec-tutorial-the-skip-gram-model/) of Word2Vec from Chris McCormick \n",
    "* [First Word2Vec paper](https://arxiv.org/pdf/1301.3781.pdf) from Mikolov et al.\n",
    "* [Neural Information Processing Systems, paper](http://papers.nips.cc/paper/5021-distributed-representations-of-words-and-phrases-and-their-compositionality.pdf) with improvements for Word2Vec also from Mikolov et al.\n",
    "\n",
    "---\n",
    "## Word embeddings\n",
    "\n",
    "When you're dealing with words in text, you end up with tens of thousands of word classes to analyze; one for each word in a vocabulary. Trying to one-hot encode these words is massively inefficient because most values in a one-hot vector will be set to zero. So, the matrix multiplication that happens in between a one-hot input vector and a first, hidden layer will result in mostly zero-valued hidden outputs.\n",
    "\n",
    "<img src='assets/one_hot_encoding.png' width=50%>\n",
    "\n",
    "To solve this problem and greatly increase the efficiency of our networks, we use what are called **embeddings**. Embeddings are just a fully connected layer like you've seen before. We call this layer the embedding layer and the weights are embedding weights. We skip the multiplication into the embedding layer by instead directly grabbing the hidden layer values from the weight matrix. We can do this because the multiplication of a one-hot encoded vector with a matrix returns the row of the matrix corresponding the index of the \"on\" input unit.\n",
    "\n",
    "<img src='assets/lookup_matrix.png' width=50%>\n",
    "\n",
    "Instead of doing the matrix multiplication, we use the weight matrix as a lookup table. We encode the words as integers, for example \"heart\" is encoded as 958, \"mind\" as 18094. Then to get hidden layer values for \"heart\", you just take the 958th row of the embedding matrix. This process is called an **embedding lookup** and the number of hidden units is the **embedding dimension**.\n",
    "\n",
    "<img src='assets/tokenize_lookup.png' width=50%>\n",
    " \n",
    "There is nothing magical going on here. The embedding lookup table is just a weight matrix. The embedding layer is just a hidden layer. The lookup is just a shortcut for the matrix multiplication. The lookup table is trained just like any weight matrix.\n",
    "\n",
    "Embeddings aren't only used for words of course. You can use them for any model where you have a massive number of classes. A particular type of model called **Word2Vec** uses the embedding layer to find vector representations of words that contain semantic meaning."
   ]
  },
  {
   "cell_type": "markdown",
   "metadata": {},
   "source": [
    "---\n",
    "## Word2Vec\n",
    "\n",
    "The Word2Vec algorithm finds much more efficient representations by finding vectors that represent the words. These vectors also contain semantic information about the words.\n",
    "\n",
    "<img src=\"assets/context_drink.png\" width=40%>\n",
    "\n",
    "Words that show up in similar **contexts**, such as \"coffee\", \"tea\", and \"water\" will have vectors near each other. Different words will be further away from one another, and relationships can be represented by distance in vector space.\n",
    "\n",
    "<img src=\"assets/vector_distance.png\" width=40%>\n",
    "\n",
    "\n",
    "There are two architectures for implementing Word2Vec:\n",
    ">* CBOW (Continuous Bag-Of-Words) and \n",
    "* Skip-gram\n",
    "\n",
    "<img src=\"assets/word2vec_architectures.png\" width=60%>\n",
    "\n",
    "In this implementation, we'll be using the **skip-gram architecture** because it performs better than CBOW. Here, we pass in a word and try to predict the words surrounding it in the text. In this way, we can train the network to learn representations for words that show up in similar contexts."
   ]
  },
  {
   "cell_type": "markdown",
   "metadata": {},
   "source": [
    "---\n",
    "## Loading Data\n",
    "\n",
    "Next, we'll ask you to load in data and place it in the `data` directory\n",
    "\n",
    "1. Load the [text8 dataset](https://s3.amazonaws.com/video.udacity-data.com/topher/2018/October/5bbe6499_text8/text8.zip); a file of cleaned up *Wikipedia article text* from Matt Mahoney. \n",
    "2. Place that data in the `data` folder in the home directory.\n",
    "3. Then you can extract it and delete the archive, zip file to save storage space.\n",
    "\n",
    "After following these steps, you should have one file in your data directory: `data/text8`."
   ]
  },
  {
   "cell_type": "code",
   "execution_count": 97,
   "metadata": {},
   "outputs": [
    {
     "name": "stdout",
     "output_type": "stream",
     "text": [
      " anarchism originated as a term of abuse first used against early working class radicals including t\n"
     ]
    }
   ],
   "source": [
    "# read in the extracted text file      \n",
    "with open('data/text8') as f:\n",
    "    text = f.read()\n",
    "\n",
    "# print out the first 100 characters\n",
    "print(text[:100])"
   ]
  },
  {
   "cell_type": "markdown",
   "metadata": {},
   "source": [
    "## Pre-processing\n",
    "\n",
    "Here I'm fixing up the text to make training easier. This comes from the `utils.py` file. The `preprocess` function does a few things:\n",
    ">* It converts any punctuation into tokens, so a period is changed to ` <PERIOD> `. In this data set, there aren't any periods, but it will help in other NLP problems. \n",
    "* It removes all words that show up five or *fewer* times in the dataset. This will greatly reduce issues due to noise in the data and improve the quality of the vector representations. \n",
    "* It returns a list of words in the text.\n",
    "\n",
    "This may take a few seconds to run, since our text file is quite large. If you want to write your own functions for this stuff, go for it!"
   ]
  },
  {
   "cell_type": "code",
   "execution_count": 98,
   "metadata": {},
   "outputs": [
    {
     "name": "stdout",
     "output_type": "stream",
     "text": [
      "['anarchism', 'originated', 'as', 'a', 'term', 'of', 'abuse', 'first', 'used', 'against', 'early', 'working', 'class', 'radicals', 'including', 'the', 'diggers', 'of', 'the', 'english', 'revolution', 'and', 'the', 'sans', 'culottes', 'of', 'the', 'french', 'revolution', 'whilst']\n"
     ]
    }
   ],
   "source": [
    "import utils\n",
    "\n",
    "# get list of words\n",
    "words = utils.preprocess(text)\n",
    "print(words[:30])"
   ]
  },
  {
   "cell_type": "code",
   "execution_count": 99,
   "metadata": {},
   "outputs": [
    {
     "name": "stdout",
     "output_type": "stream",
     "text": [
      "Total words in text: 16680599\n",
      "Unique words: 63641\n"
     ]
    }
   ],
   "source": [
    "# print some stats about this word data\n",
    "print(\"Total words in text: {}\".format(len(words)))\n",
    "print(\"Unique words: {}\".format(len(set(words)))) # `set` removes any duplicate words"
   ]
  },
  {
   "cell_type": "markdown",
   "metadata": {},
   "source": [
    "### Dictionaries\n",
    "\n",
    "Next, I'm creating two dictionaries to convert words to integers and back again (integers to words). This is again done with a function in the `utils.py` file. `create_lookup_tables` takes in a list of words in a text and returns two dictionaries.\n",
    ">* The integers are assigned in descending frequency order, so the most frequent word (\"the\") is given the integer 0 and the next most frequent is 1, and so on. \n",
    "\n",
    "Once we have our dictionaries, the words are converted to integers and stored in the list `int_words`."
   ]
  },
  {
   "cell_type": "code",
   "execution_count": 100,
   "metadata": {},
   "outputs": [
    {
     "name": "stdout",
     "output_type": "stream",
     "text": [
      "[5233, 3080, 11, 5, 194, 1, 3133, 45, 58, 155, 127, 741, 476, 10571, 133, 0, 27349, 1, 0, 102, 854, 2, 0, 15067, 58112, 1, 0, 150, 854, 3580]\n"
     ]
    }
   ],
   "source": [
    "vocab_to_int, int_to_vocab = utils.create_lookup_tables(words)\n",
    "int_words = [vocab_to_int[word] for word in words]\n",
    "\n",
    "print(int_words[:30])"
   ]
  },
  {
   "cell_type": "markdown",
   "metadata": {},
   "source": [
    "## Subsampling\n",
    "\n",
    "Words that show up often such as \"the\", \"of\", and \"for\" don't provide much context to the nearby words. If we discard some of them, we can remove some of the noise from our data and in return get faster training and better representations. This process is called subsampling by Mikolov. For each word $w_i$ in the training set, we'll discard it with probability given by \n",
    "\n",
    "$$ P(w_i) = 1 - \\sqrt{\\frac{t}{f(w_i)}} $$\n",
    "\n",
    "where $t$ is a threshold parameter and $f(w_i)$ is the frequency of word $w_i$ in the total dataset.\n",
    "\n",
    "$$ P(0) = 1 - \\sqrt{\\frac{1*10^{-5}}{1*10^6/16*10^6}} = 0.98735 $$\n",
    "\n",
    "I'm going to leave this up to you as an exercise. Check out my solution to see how I did it.\n",
    "\n",
    "> **Exercise:** Implement subsampling for the words in `int_words`. That is, go through `int_words` and discard each word given the probablility $P(w_i)$ shown above. Note that $P(w_i)$ is the probability that a word is discarded. Assign the subsampled data to `train_words`."
   ]
  },
  {
   "cell_type": "code",
   "execution_count": 101,
   "metadata": {},
   "outputs": [
    {
     "name": "stdout",
     "output_type": "stream",
     "text": [
      "(5233, 303)\n",
      "(5233, 1.8164815304294527e-05)\n",
      "(5233, 0.25803314192489146)\n",
      "[5233, 3080, 3133, 10571, 27349, 15067, 58112, 3580, 10712, 2731, 3672, 2757, 7088, 44611, 2877, 8983, 4147, 6437, 4186, 4860, 6753, 7573, 11064, 5948, 4861, 20299, 53721, 25636, 15200, 5690]\n"
     ]
    }
   ],
   "source": [
    "#my solution\n",
    "\n",
    "from collections import Counter\n",
    "import random\n",
    "import numpy as np\n",
    "\n",
    "threshold = 1e-5\n",
    "word_counts = Counter(int_words)\n",
    "print(list(word_counts.items())[0])  # dictionary of int_words, how many times they appear\n",
    "\n",
    "# discard some frequent words, according to the subsampling equation\n",
    "# create a new list of words for training\n",
    "total_len = len(int_words)\n",
    "\n",
    "freq={}\n",
    "prob={}\n",
    "train_words=[]\n",
    "average = 0\n",
    "nb = 0\n",
    "\n",
    "for word, count in word_counts.items():\n",
    "    freq.update({word: count/total_len})\n",
    "for word, freq_c in freq.items():\n",
    "    prob.update({word: 1-(np.sqrt(threshold/freq_c))})\n",
    "    \n",
    "print(list(freq.items())[0])\n",
    "print(list(prob.items())[0])\n",
    "\n",
    "\n",
    "for word, prob in prob.items():\n",
    "    if prob <= 0.5:\n",
    "        train_words.append(word)\n",
    "\n",
    "print(train_words[:30])"
   ]
  },
  {
   "cell_type": "markdown",
   "metadata": {},
   "source": [
    "## Making batches"
   ]
  },
  {
   "cell_type": "markdown",
   "metadata": {},
   "source": [
    "Now that our data is in good shape, we need to get it into the proper form to pass it into our network. With the skip-gram architecture, for each word in the text, we want to define a surrounding _context_ and grab all the words in a window around that word, with size $C$. \n",
    "\n",
    "From [Mikolov et al.](https://arxiv.org/pdf/1301.3781.pdf): \n",
    "\n",
    "\"Since the more distant words are usually less related to the current word than those close to it, we give less weight to the distant words by sampling less from those words in our training examples... If we choose $C = 5$, for each training word we will select randomly a number $R$ in range $[ 1: C ]$, and then use $R$ words from history and $R$ words from the future of the current word as correct labels.\"\n",
    "\n",
    "> **Exercise:** Implement a function `get_target` that receives a list of words, an index, and a window size, then returns a list of words in the window around the index. Make sure to use the algorithm described above, where you chose a random number of words to from the window.\n",
    "\n",
    "Say, we have an input and we're interested in the idx=2 token, `741`: \n",
    "```\n",
    "[5233, 58, 741, 10571, 27349, 0, 15067, 58112, 3580, 58, 10712]\n",
    "```\n",
    "\n",
    "For `R=2`, `get_target` should return a list of four values:\n",
    "```\n",
    "[5233, 58, 10571, 27349]\n",
    "```"
   ]
  },
  {
   "cell_type": "code",
   "execution_count": 102,
   "metadata": {},
   "outputs": [],
   "source": [
    "def get_target(words, idx, window_size=5):\n",
    "    ''' Get a list of words in a window around an index. '''\n",
    "    \n",
    "    R = np.random.randint(1, window_size+1)\n",
    "    start = idx - R if (idx - R) > 0 else 0\n",
    "    stop = idx + R\n",
    "    target_words = words[start:idx] + words[idx+1:stop+1]\n",
    "    \n",
    "    return list(target_words)"
   ]
  },
  {
   "cell_type": "code",
   "execution_count": 103,
   "metadata": {},
   "outputs": [
    {
     "data": {
      "text/plain": [
       "[58, 10571]"
      ]
     },
     "execution_count": 103,
     "metadata": {},
     "output_type": "execute_result"
    }
   ],
   "source": [
    "words = [5233, 58, 741, 10571, 27349, 0, 15067, 58112, 3580, 58, 10712]\n",
    "idx = 2\n",
    "window_size = 5\n",
    "\n",
    "get_target(words, idx, window_size=5)"
   ]
  },
  {
   "cell_type": "code",
   "execution_count": 104,
   "metadata": {},
   "outputs": [
    {
     "name": "stdout",
     "output_type": "stream",
     "text": [
      "Input:  [0, 1, 2, 3, 4, 5, 6, 7, 8, 9]\n",
      "Target:  [1, 2, 3, 4, 6, 7, 8, 9]\n"
     ]
    }
   ],
   "source": [
    "# test your code!\n",
    "\n",
    "# run this cell multiple times to check for random window selection\n",
    "int_text = [i for i in range(10)]\n",
    "print('Input: ', int_text)\n",
    "idx=5 # word index of interest\n",
    "\n",
    "target = get_target(int_text, idx=idx, window_size=5)\n",
    "print('Target: ', target)  # you should get some indices around the idx"
   ]
  },
  {
   "cell_type": "markdown",
   "metadata": {},
   "source": [
    "### Generating Batches \n",
    "\n",
    "Here's a generator function that returns batches of input and target data for our model, using the `get_target` function from above. The idea is that it grabs `batch_size` words from a words list. Then for each of those batches, it gets the target words in a window."
   ]
  },
  {
   "cell_type": "code",
   "execution_count": 105,
   "metadata": {},
   "outputs": [],
   "source": [
    "def get_batches(words, batch_size, window_size=5):\n",
    "    ''' Create a generator of word batches as a tuple (inputs, targets) '''\n",
    "    \n",
    "    n_batches = len(words)//batch_size\n",
    "    \n",
    "    # only full batches\n",
    "    words = words[:n_batches*batch_size]\n",
    "    \n",
    "    for idx in range(0, len(words), batch_size):\n",
    "        x, y = [], []\n",
    "        batch = words[idx:idx+batch_size]\n",
    "        for ii in range(len(batch)):\n",
    "            batch_x = batch[ii]\n",
    "            batch_y = get_target(batch, ii, window_size)\n",
    "            y.extend(batch_y)\n",
    "            x.extend([batch_x]*len(batch_y))\n",
    "        yield x, y\n",
    "    "
   ]
  },
  {
   "cell_type": "code",
   "execution_count": 106,
   "metadata": {},
   "outputs": [
    {
     "name": "stdout",
     "output_type": "stream",
     "text": [
      "x\n",
      " [0, 1, 1, 1, 2, 2, 2, 3, 3, 3]\n",
      "y\n",
      " [1, 0, 2, 3, 0, 1, 3, 0, 1, 2]\n"
     ]
    }
   ],
   "source": [
    "int_text = [i for i in range(20)]\n",
    "x,y = next(get_batches(int_text, batch_size=4, window_size=5))\n",
    "\n",
    "print('x\\n', x)\n",
    "print('y\\n', y)"
   ]
  },
  {
   "cell_type": "markdown",
   "metadata": {},
   "source": [
    "## Building the graph\n",
    "\n",
    "Below is an approximate diagram of the general structure of our network.\n",
    "<img src=\"assets/skip_gram_arch.png\" width=60%>\n",
    "\n",
    ">* The input words are passed in as batches of input word tokens. \n",
    "* This will go into a hidden layer of linear units (our embedding layer). \n",
    "* Then, finally into a softmax output layer. \n",
    "\n",
    "We'll use the softmax layer to make a prediction about the context words by sampling, as usual.\n",
    "\n",
    "The idea here is to train the embedding layer weight matrix to find efficient representations for our words. We can discard the softmax layer because we don't really care about making predictions with this network. We just want the embedding matrix so we can use it in _other_ networks we build using this dataset."
   ]
  },
  {
   "cell_type": "markdown",
   "metadata": {},
   "source": [
    "---\n",
    "## Validation\n",
    "\n",
    "Here, I'm creating a function that will help us observe our model as it learns. We're going to choose a few common words and few uncommon words. Then, we'll print out the closest words to them using the cosine similarity: \n",
    "\n",
    "<img src=\"assets/two_vectors.png\" width=30%>\n",
    "\n",
    "$$\n",
    "\\mathrm{similarity} = \\cos(\\theta) = \\frac{\\vec{a} \\cdot \\vec{b}}{|\\vec{a}||\\vec{b}|}\n",
    "$$\n",
    "\n",
    "\n",
    "We can encode the validation words as vectors $\\vec{a}$ using the embedding table, then calculate the similarity with each word vector $\\vec{b}$ in the embedding table. With the similarities, we can print out the validation words and words in our embedding table semantically similar to those words. It's a nice way to check that our embedding table is grouping together words with similar semantic meanings."
   ]
  },
  {
   "cell_type": "code",
   "execution_count": 107,
   "metadata": {},
   "outputs": [],
   "source": [
    "def cosine_similarity(embedding, valid_size=16, valid_window=100, device='cpu'):\n",
    "    \"\"\" Returns the cosine similarity of validation words with words in the embedding matrix.\n",
    "        Here, embedding should be a PyTorch embedding module.\n",
    "    \"\"\"\n",
    "    \n",
    "    # Here we're calculating the cosine similarity between some random words and \n",
    "    # our embedding vectors. With the similarities, we can look at what words are\n",
    "    # close to our random words.\n",
    "    \n",
    "    # sim = (a . b) / |a||b|\n",
    "    \n",
    "    embed_vectors = embedding.weight\n",
    "    \n",
    "    # magnitude of embedding vectors, |b|\n",
    "    magnitudes = embed_vectors.pow(2).sum(dim=1).sqrt().unsqueeze(0)\n",
    "    \n",
    "    # pick N words from our ranges (0,window) and (1000,1000+window). lower id implies more frequent \n",
    "    valid_examples = np.array(random.sample(range(valid_window), valid_size//2))\n",
    "    valid_examples = np.append(valid_examples,\n",
    "                               random.sample(range(1000,1000+valid_window), valid_size//2))\n",
    "    valid_examples = torch.LongTensor(valid_examples).to(device)\n",
    "    \n",
    "    valid_vectors = embedding(valid_examples)\n",
    "    similarities = torch.mm(valid_vectors, embed_vectors.t())/magnitudes\n",
    "        \n",
    "    return valid_examples, similarities"
   ]
  },
  {
   "cell_type": "markdown",
   "metadata": {},
   "source": [
    "## SkipGram model\n",
    "\n",
    "Define and train the SkipGram model. \n",
    "> You'll need to define an [embedding layer](https://pytorch.org/docs/stable/nn.html#embedding) and a final, softmax output layer.\n",
    "\n",
    "An Embedding layer takes in a number of inputs, importantly:\n",
    "* **num_embeddings** – the size of the dictionary of embeddings, or how many rows you'll want in the embedding weight matrix\n",
    "* **embedding_dim** – the size of each embedding vector; the embedding dimension"
   ]
  },
  {
   "cell_type": "code",
   "execution_count": 108,
   "metadata": {},
   "outputs": [],
   "source": [
    "import torch\n",
    "from torch import nn\n",
    "import torch.optim as optim"
   ]
  },
  {
   "cell_type": "markdown",
   "metadata": {},
   "source": [
    "## Skipgram Negative sampling"
   ]
  },
  {
   "cell_type": "markdown",
   "metadata": {},
   "source": [
    "class SkipGramNeg(nn.Module):\n",
    "    def __init__(self, n_vocab, n_embed, noise_dist=None):\n",
    "        super().__init__()\n",
    "        \n",
    "        self.n_vocab = n_vocab\n",
    "        self.n_embed = n_embed\n",
    "        self.noise_dist = noise_dist\n",
    "        \n",
    "        # define embedding layers for input and output words\n",
    "        self.in_embed = nn.Embedding(n_vocab, n_embed)\n",
    "        self.out_embed = nn.Embedding(n_vocab, n_embed)\n",
    "        \n",
    "        # Initialize embedding tables with uniform distribution\n",
    "        # I believe this helps with convergence\n",
    "        self.in_embed.weight.data.uniform_(-1, 1)\n",
    "        self.out_embed.weight.data.uniform_(-1, 1)\n",
    "        \n",
    "    def forward_input(self, input_words):\n",
    "        input_vectors = self.in_embed(input_words)\n",
    "        return input_vectors\n",
    "    \n",
    "    def forward_output(self, output_words):\n",
    "        output_vectors = self.out_embed(output_words)\n",
    "        return output_vectors\n",
    "    \n",
    "    def forward_noise(self, batch_size, n_samples):\n",
    "        \"\"\" Generate noise vectors with shape (batch_size, n_samples, n_embed)\"\"\"\n",
    "        if self.noise_dist is None:\n",
    "            # Sample words uniformly\n",
    "            noise_dist = torch.ones(self.n_vocab)\n",
    "        else:\n",
    "            noise_dist = self.noise_dist\n",
    "            \n",
    "        # Sample words from our noise distribution\n",
    "        noise_words = torch.multinomial(noise_dist,\n",
    "                                        batch_size * n_samples,\n",
    "                                        replacement=True)\n",
    "        \n",
    "        device = \"cuda\" if model.out_embed.weight.is_cuda else \"cpu\"\n",
    "        noise_words = noise_words.to(device)\n",
    "        \n",
    "        noise_vectors = self.out_embed(noise_words).view(batch_size, n_samples, self.n_embed)\n",
    "        \n",
    "        return noise_vectors"
   ]
  },
  {
   "cell_type": "code",
   "execution_count": 109,
   "metadata": {},
   "outputs": [],
   "source": [
    "class NegativeSamplingLoss(nn.Module):\n",
    "    def __init__(self):\n",
    "        super().__init__()\n",
    "\n",
    "    def forward(self, input_vectors, output_vectors, noise_vectors):\n",
    "        \n",
    "        batch_size, embed_size = input_vectors.shape\n",
    "        \n",
    "        # Input vectors should be a batch of column vectors\n",
    "        input_vectors = input_vectors.view(batch_size, embed_size, 1)\n",
    "        \n",
    "        # Output vectors should be a batch of row vectors\n",
    "        output_vectors = output_vectors.view(batch_size, 1, embed_size)\n",
    "        \n",
    "        # bmm = batch matrix multiplication\n",
    "        # correct log-sigmoid loss\n",
    "        out_loss = torch.bmm(output_vectors, input_vectors).sigmoid().log()\n",
    "        out_loss = out_loss.squeeze()\n",
    "        \n",
    "        # incorrect log-sigmoid loss\n",
    "        noise_loss = torch.bmm(noise_vectors.neg(), input_vectors).sigmoid().log()\n",
    "        noise_loss = noise_loss.squeeze().sum(1)  # sum the losses over the sample of noise vectors\n",
    "\n",
    "        # negate and sum correct and noisy log-sigmoid losses\n",
    "        # return average batch loss\n",
    "        return -(out_loss + noise_loss).mean()"
   ]
  },
  {
   "cell_type": "markdown",
   "metadata": {},
   "source": [
    "### Training\n",
    "\n",
    "Below is our training loop, and I recommend that you train on GPU, if available.\n",
    "\n",
    "**Note that, because we applied a softmax function to our model output, we are using NLLLoss** as opposed to cross entropy. This is because Softmax  in combination with NLLLoss = CrossEntropy loss ."
   ]
  },
  {
   "cell_type": "code",
   "execution_count": 127,
   "metadata": {
    "scrolled": false
   },
   "outputs": [
    {
     "name": "stdout",
     "output_type": "stream",
     "text": [
      "100\n",
      "Epoch: 1/10\n",
      "Loss:  14.149674415588379\n",
      "use | hacks, cristian, lemmings, debussy, engraved\n",
      "other | oversimplification, camps, ascending, llama, excellency\n",
      "seven | gilles, drive, scsi, syringe, martins\n",
      "this | hearsay, ln, npt, indymedia, dio\n",
      "so | bells, paveway, messageboard, acidification, fuse\n",
      "but | oxytocin, bellerophon, negotiation, attention, lfr\n",
      "in | mci, furthest, korps, beag, reservoirs\n",
      "had | connections, shores, spatially, cladistics, huguenot\n",
      "rise | inclination, eduardo, consilience, hunted, scientology\n",
      "quite | uaw, halfwidth, orthonormal, barrier, rommel\n",
      "square | bahamian, paparizou, tarantula, gear, gepids\n",
      "placed | kwajalein, operands, upright, blasters, rua\n",
      "arts | heller, brutish, natchez, byproducts, mantled\n",
      "marriage | takahashi, mammary, litas, decca, lagopus\n",
      "discovered | magnetized, hoffman, sundown, seamlessly, helps\n",
      "orthodox | sinthasomphone, unarmed, reflecting, bradykinin, callisto\n",
      "...\n",
      "200\n",
      "Epoch: 2/10\n",
      "Loss:  12.906864166259766\n",
      "see | france, icosahedral, mmu, slotted, instantaneous\n",
      "as | funicular, concealment, lawson, satsuma, shrimp\n",
      "years | feet, sledge, mdl, selene, reactants\n",
      "there | nieve, perl, christoffel, platoon, potawatomi\n",
      "an | jess, bunch, miami, scrub, conqueror\n",
      "called | mickiewicz, cbm, alertness, unstressed, klezmer\n",
      "seven | gilles, drive, syringe, martins, concentrations\n",
      "were | chancellors, danmark, instantiation, mines, coulter\n",
      "hold | restoration, mihrab, shopping, sludge, ghostbusters\n",
      "placed | kwajalein, operands, upright, rua, blasters\n",
      "gold | letterboxing, scripted, pussy, resilient, mould\n",
      "police | usurpers, ahaz, progs, xerox, exhausts\n",
      "numerous | barf, sufism, ok, rite, socialist\n",
      "prince | vikings, dustin, cornholio, intrauterine, tzara\n",
      "liberal | gol, moderns, anatta, caricature, fusible\n",
      "square | bahamian, paparizou, gear, tarantula, gepids\n",
      "...\n",
      "300\n",
      "Epoch: 3/10\n",
      "Loss:  11.80191421508789\n",
      "its | inaccessible, lewin, potters, notoc, medial\n",
      "state | cheng, hole, kate, wintered, upholding\n",
      "have | automatism, monopolization, seasonal, manipulates, nominate\n",
      "all | intolerant, vilification, vayikra, realschule, say\n",
      "four | fellini, preparation, resolutions, eurasia, lucrative\n",
      "states | shearer, ricotta, jacks, roping, lederman\n",
      "during | childhood, resounding, rely, ouagadougou, dubliners\n",
      "see | france, icosahedral, instantaneous, channing, mmu\n",
      "mainly | ameliorate, boromir, dunlop, forehead, costing\n",
      "cost | wakko, traveller, consumerism, ussher, socialized\n",
      "experience | distal, rivalled, bayliss, scythe, gotland\n",
      "engine | luton, biographical, neoconservative, diaries, dielectric\n",
      "stage | obscenity, valour, formants, emerging, livestock\n",
      "behind | ller, axon, aforementioned, oxidizing, sectarian\n",
      "account | goldwater, mdi, colby, rochester, saale\n",
      "test | sais, wir, pohnpei, tzow, yourdon\n",
      "...\n",
      "400\n",
      "Epoch: 4/10\n",
      "Loss:  11.082749366760254\n",
      "have | monopolization, seasonal, automatism, manipulates, nominate\n",
      "nine | fleury, gpl, fleischmann, quantities, marathons\n",
      "however | beet, deflate, onesimus, nadh, oppressors\n",
      "d | subculture, locus, britten, gar, barbados\n",
      "history | dso, sodom, larp, meltwater, amap\n",
      "a | cosmography, novelists, heyerdahl, desmodromic, spouse\n",
      "that | monophosphate, abstain, ecliptic, ictr, existance\n",
      "his | dien, tombaugh, lili, snorted, brink\n",
      "something | ieung, shambhala, maois, kool, carrier\n",
      "hold | restoration, sludge, shopping, ghostbusters, tuileries\n",
      "behind | ller, axon, aforementioned, oxidizing, sectarian\n",
      "additional | discriminated, reptilian, mockumentary, recollections, havel\n",
      "rise | eduardo, inclination, hunted, vassar, maliki\n",
      "recorded | contractors, pasolini, durio, serine, foo\n",
      "marriage | takahashi, mammary, litas, lagopus, ballroom\n",
      "existence | ssn, dermot, reinstating, complied, inextricably\n",
      "...\n",
      "500\n",
      "Epoch: 5/10\n",
      "Loss:  10.797292709350586\n",
      "these | arthritis, plunging, lactam, bassline, expansion\n",
      "five | cares, battersea, parlor, biologist, aux\n",
      "if | conflicted, barbados, primal, abdicates, bentham\n",
      "the | weiner, bomba, maiman, sitch, mcclure\n",
      "called | mickiewicz, cbm, alertness, klezmer, unstressed\n",
      "d | subculture, locus, britten, gar, barbados\n",
      "this | hearsay, ln, npt, indymedia, clerics\n",
      "who | dhahran, inhibits, molasses, skyscraper, counterfeit\n",
      "orthodox | unarmed, sinthasomphone, reflecting, electronic, clashing\n",
      "account | goldwater, mdi, colby, dissolves, saale\n",
      "issue | kew, petros, peacekeepers, conveyor, cornhuskers\n",
      "joseph | cartels, beard, linden, wording, paralysis\n",
      "discovered | magnetized, hoffman, sundown, seamlessly, jocelyn\n",
      "accepted | sweden, chimborazo, ostara, sio, anticommunist\n",
      "police | usurpers, ahaz, progs, xerox, addington\n",
      "bill | sewage, cri, mostar, cognates, scriptwriter\n",
      "...\n",
      "600\n",
      "Epoch: 6/10\n",
      "Loss:  10.307672500610352\n",
      "use | hacks, cristian, lemmings, debussy, nejd\n",
      "war | buzzsaw, yawkey, abulurd, adolph, reactionary\n",
      "time | erosive, mesures, vegetarianism, stanshall, fedora\n",
      "on | liners, eyebrows, jaina, laszlo, katal\n",
      "only | athlon, ahronoth, firefly, collier, gamete\n",
      "have | automatism, seasonal, monopolization, manipulates, nominate\n",
      "for | addressee, antinomianism, culpability, orchids, retrovirus\n",
      "history | dso, sodom, larp, meltwater, aurobindo\n",
      "square | bahamian, fieldwork, paparizou, gepids, gear\n",
      "except | erd, pressburg, anaphase, elms, okanagan\n",
      "versions | sikorsky, syllabic, unix, cornholio, bovinae\n",
      "bible | unheard, appendage, contentious, amenities, spl\n",
      "consists | yerba, pickers, halite, milit, groom\n",
      "behind | ller, aforementioned, axon, oxidizing, sectarian\n",
      "centre | disposal, arriving, inuvialuit, generate, cooperated\n",
      "ice | freeh, maoists, maier, tacticus, taste\n",
      "...\n",
      "700\n",
      "Epoch: 6/10\n",
      "Loss:  9.545483589172363\n",
      "zero | armagh, rwanda, ratings, interventionist, darling\n",
      "over | muezzin, estimate, pulmonic, jules, isla\n",
      "b | somaliland, mussel, hird, opec, protesting\n",
      "from | qoheleth, tapu, demiurge, porter, hose\n",
      "such | apprehended, heures, insignificance, hesiod, beginning\n",
      "were | instantiation, chancellors, cadences, danmark, coulter\n",
      "one | defensible, murbella, neogene, change, mirabeau\n",
      "states | shearer, ricotta, jacks, roping, lederman\n",
      "award | giscard, overgrazing, duplication, hallucinogenic, qing\n",
      "ocean | thronged, lustrous, macias, anthropologists, autoroute\n",
      "test | sais, pohnpei, wir, tzow, commensurate\n",
      "hold | restoration, sludge, shopping, uncertain, mihrab\n",
      "applications | rinsing, brigade, deactivated, david, sniping\n",
      "woman | dulles, mcghee, vinifera, stipends, piquet\n",
      "shows | endorsements, triggers, bosons, insurance, mansfield\n",
      "units | wikinews, deficit, sweetcorn, thud, islamabad\n",
      "...\n",
      "800\n",
      "Epoch: 7/10\n",
      "Loss:  9.246011734008789\n",
      "used | sfa, berenson, powerhouse, danske, hemiparesis\n",
      "up | effortless, megan, dojos, polled, stroll\n",
      "new | dripping, troja, presidencia, domme, provocative\n",
      "also | decstation, heckel, prepaid, shackles, solzhenitsyn\n",
      "while | hanlon, mandating, firing, enforcer, kindergarten\n",
      "would | terrace, gracious, goshen, ossuary, drunken\n",
      "all | intolerant, vilification, realschule, say, secede\n",
      "nine | gpl, fleury, fleischmann, quantities, marathons\n",
      "creation | gcl, duly, cars, laundry, aberrations\n",
      "file | dictatorial, kushner, trophyless, gico, consulars\n",
      "units | deficit, wikinews, sweetcorn, islamabad, thud\n",
      "frac | paideia, spinoffs, macgillivray, romanus, mitte\n",
      "quite | halfwidth, uaw, barrier, orthonormal, rommel\n",
      "police | usurpers, ahaz, progs, xerox, exhausts\n",
      "derived | seaweed, galiza, blitz, manipulation, eugenie\n",
      "centre | disposal, generate, arriving, inuvialuit, refrigerator\n",
      "...\n",
      "900\n",
      "Epoch: 8/10\n",
      "Loss:  8.513574600219727\n",
      "was | pupils, comfortable, disavow, theophoric, visualization\n",
      "united | framework, stryker, canal, masturbating, requested\n",
      "war | buzzsaw, abulurd, yawkey, adolph, reactionary\n",
      "such | apprehended, heures, insignificance, hesiod, beginning\n",
      "and | coerce, nouakchott, disgraced, pathfinder, vt\n",
      "seven | gilles, drive, syringe, martins, gundobad\n",
      "only | athlon, firefly, collier, ahronoth, gamete\n",
      "but | oxytocin, attention, bellerophon, firmness, negotiation\n",
      "taking | magnified, greenberg, oceangoing, andalucia, qd\n",
      "derived | seaweed, galiza, blitz, eugenie, nearby\n",
      "existence | ssn, dermot, reinstating, complied, inextricably\n",
      "award | giscard, overgrazing, qing, duplication, hallucinogenic\n",
      "notes | tunny, typologically, structural, inbreeding, grisman\n",
      "shows | insurance, bosons, triggers, mansfield, endorsements\n",
      "quite | halfwidth, uaw, orthonormal, rommel, emergencies\n",
      "older | neighbours, oregano, commerzbank, jehoahaz, mallet\n",
      "...\n"
     ]
    },
    {
     "name": "stdout",
     "output_type": "stream",
     "text": [
      "1000\n",
      "Epoch: 9/10\n",
      "Loss:  8.172021865844727\n",
      "state | cheng, kate, hole, wintered, upholding\n",
      "system | fn, wound, zebulon, landslides, vivre\n",
      "all | intolerant, secede, vilification, realschule, say\n",
      "if | conflicted, barbados, bentham, pulau, kestrel\n",
      "from | tapu, qoheleth, porter, demiurge, hose\n",
      "these | arthritis, plunging, bassline, lactam, deutschen\n",
      "up | effortless, megan, dojos, stroll, yoo\n",
      "who | dhahran, inhibits, molasses, skyscraper, rebekah\n",
      "assembly | faroes, reed, krugerrand, voce, permo\n",
      "issue | kew, peacekeepers, buscema, conveyor, bilbo\n",
      "centre | disposal, arriving, generate, inuvialuit, refrigerator\n",
      "taking | magnified, greenberg, oceangoing, andalucia, qd\n",
      "square | bahamian, gepids, fieldwork, beac, gear\n",
      "frac | paideia, macgillivray, mitte, spinoffs, romanus\n",
      "smith | starring, mitterrand, lignite, stations, mpr\n",
      "freedom | pageant, guilder, musicianship, dwelt, corpuscles\n",
      "...\n",
      "1100\n",
      "Epoch: 10/10\n",
      "Loss:  7.616200923919678\n",
      "also | solzhenitsyn, mellen, decstation, heckel, prepaid\n",
      "time | fedora, vegetarianism, mesures, hiero, erosive\n",
      "american | brahmagupta, vend, amman, fireflies, zelazny\n",
      "known | jamestown, montfort, batavians, culbert, kasavubu\n",
      "these | arthritis, lactam, plunging, bassline, expansion\n",
      "five | cares, biologist, parlor, battersea, bju\n",
      "such | apprehended, heures, insignificance, beginning, deny\n",
      "with | thousands, ethic, hochschild, delegate, reconsideration\n",
      "mathematics | entre, occupy, baptise, dazzling, vapour\n",
      "account | goldwater, dissolves, mdi, colby, rupp\n",
      "orthodox | sinthasomphone, unarmed, callisto, clashing, chaitin\n",
      "construction | tricolore, zi, garlic, gaddis, trebizond\n",
      "active | opec, surgery, girona, qe, sociopath\n",
      "know | pulverized, corporate, exemplary, extant, elas\n",
      "centre | disposal, arriving, inuvialuit, generate, refrigerator\n",
      "magazine | embassies, binder, deckers, cq, rna\n",
      "...\n",
      "1190\n"
     ]
    }
   ],
   "source": [
    "# check if GPU is available\n",
    "device = 'cuda' if torch.cuda.is_available() else 'cpu'\n",
    "\n",
    "# Get our noise distribution\n",
    "# Using word frequencies calculated earlier in the notebook\n",
    "word_freqs = np.array(sorted(freq.values(), reverse=True))\n",
    "unigram_dist = word_freqs/word_freqs.sum()\n",
    "noise_dist = torch.from_numpy(unigram_dist**(0.75)/np.sum(unigram_dist**(0.75)))\n",
    "\n",
    "# instantioating the model\n",
    "embedding_dim=300 # you can change, if you want\n",
    "# if SkipGram\n",
    "#model = SkipGram(len(vocab_to_int), embedding_dim).to(device)\n",
    "# if skipgram neg\n",
    "model = SkipGramNeg(len(vocab_to_int), embedding_dim, noise_dist=noise_dist).to(device)\n",
    "\n",
    "# using the loss Negative sampling loss\n",
    "criterion = NegativeSamplingLoss()\n",
    "optimizer = optim.Adam(model.parameters(), lr=0.003)\n",
    "\n",
    "print_every = 100\n",
    "steps = 0\n",
    "# try with epoch 1 1st as using CPU only\n",
    "epochs = 10\n",
    "\n",
    "# train for some number of epochs\n",
    "for e in range(epochs):\n",
    "    \n",
    "    # get input and target batches\n",
    "    for inputs, targets in get_batches(train_words, 512):\n",
    "        steps += 1\n",
    "        inputs, targets = torch.LongTensor(inputs), torch.LongTensor(targets)\n",
    "        inputs, targets = inputs.to(device), targets.to(device)\n",
    "        \n",
    "        # input, output and noise vectors\n",
    "        input_vectors = model.forward_input(inputs)\n",
    "        output_vectors = model.forward_output(targets)\n",
    "        noise_vectors = model.forward_noise(inputs.shape[0], 5)\n",
    "        # Negative loss sampling\n",
    "        loss = criterion(input_vectors, output_vectors, noise_vectors)\n",
    "        \n",
    "        # set up optimizer, backward loss and step\n",
    "        optimizer.zero_grad()\n",
    "        loss.backward()\n",
    "        optimizer.step()\n",
    "\n",
    "        if steps % print_every == 0:   \n",
    "            print(steps)\n",
    "            print(\"Epoch: {}/{}\".format(e+1, epochs))\n",
    "            print(\"Loss: \", loss.item()) # avg batch loss at this point in training\n",
    "            \n",
    "            # getting examples and similarities      \n",
    "            valid_examples, valid_similarities = cosine_similarity(model.in_embed, device=device)\n",
    "            _, closest_idxs = valid_similarities.topk(6) # topk highest similarities\n",
    "            \n",
    "            valid_examples, closest_idxs = valid_examples.to('cpu'), closest_idxs.to('cpu')\n",
    "            for ii, valid_idx in enumerate(valid_examples):\n",
    "                closest_words = [int_to_vocab[idx.item()] for idx in closest_idxs[ii]][1:]\n",
    "                print(int_to_vocab[valid_idx.item()] + \" | \" + ', '.join(closest_words))\n",
    "            print(\"...\")\n",
    "\n",
    "print(steps)"
   ]
  },
  {
   "cell_type": "code",
   "execution_count": 128,
   "metadata": {},
   "outputs": [
    {
     "data": {
      "text/plain": [
       "False"
      ]
     },
     "execution_count": 128,
     "metadata": {},
     "output_type": "execute_result"
    }
   ],
   "source": [
    "steps % print_every == 0"
   ]
  },
  {
   "cell_type": "markdown",
   "metadata": {},
   "source": [
    "## Visualizing the word vectors\n",
    "\n",
    "Below we'll use T-SNE to visualize how our high-dimensional word vectors cluster together. T-SNE is used to project these vectors into two dimensions while preserving local stucture. Check out [this post from Christopher Olah](http://colah.github.io/posts/2014-10-Visualizing-MNIST/) to learn more about T-SNE and other ways to visualize high-dimensional data."
   ]
  },
  {
   "cell_type": "code",
   "execution_count": 129,
   "metadata": {},
   "outputs": [],
   "source": [
    "%matplotlib inline\n",
    "%config InlineBackend.figure_format = 'retina'\n",
    "\n",
    "import matplotlib.pyplot as plt\n",
    "from sklearn.manifold import TSNE"
   ]
  },
  {
   "cell_type": "code",
   "execution_count": 130,
   "metadata": {},
   "outputs": [],
   "source": [
    "# getting embeddings from the embedding layer of our model, by name\n",
    "embeddings = model.in_embed.weight.to('cpu').data.numpy()"
   ]
  },
  {
   "cell_type": "code",
   "execution_count": null,
   "metadata": {},
   "outputs": [],
   "source": [
    "viz_words = 600\n",
    "tsne = TSNE()\n",
    "embed_tsne = tsne.fit_transform(embeddings[:viz_words, :])"
   ]
  },
  {
   "cell_type": "code",
   "execution_count": null,
   "metadata": {},
   "outputs": [],
   "source": [
    "fig, ax = plt.subplots(figsize=(16, 16))\n",
    "for idx in range(viz_words):\n",
    "    plt.scatter(*embed_tsne[idx, :], color='steelblue')\n",
    "    plt.annotate(int_to_vocab[idx], (embed_tsne[idx, 0], embed_tsne[idx, 1]), alpha=0.7)"
   ]
  },
  {
   "cell_type": "markdown",
   "metadata": {},
   "source": [
    "# Tokenizer"
   ]
  },
  {
   "cell_type": "code",
   "execution_count": null,
   "metadata": {},
   "outputs": [],
   "source": [
    "# creation of a tokenizer function to run a predict function\n",
    "def tokenizer(reviews):\n",
    "    #standardization and remove punctuation\n",
    "    reviews = reviews.lower() # lowercase, standardize\n",
    "    all_text = ''.join([c for c in reviews if c not in punctuation])\n",
    "    \n",
    "    # split the text\n",
    "    reviews_split = all_text.split('\\n')\n",
    "    all_text = ' '.join(reviews_split)\n",
    "\n",
    "    # create a list of words\n",
    "    words = all_text.split()\n",
    "    \n",
    "    counts = Counter(words)\n",
    "    vocab = sorted(counts, key=counts.get, reverse = True)\n",
    "    vocab_to_int = {word: ii for ii, word in enumerate(vocab, 1)}\n",
    "\n",
    "    ## use the dict to tokenize each review in reviews_split\n",
    "    ## store the tokenized reviews in reviews_ints\n",
    "    reviews_ints = []\n",
    "    for review in reviews_split:\n",
    "        reviews_ints.append([vocab_to_int[word] for word in review.split()])\n",
    "        \n",
    "    return reviews_ints"
   ]
  },
  {
   "cell_type": "code",
   "execution_count": null,
   "metadata": {},
   "outputs": [],
   "source": []
  }
 ],
 "metadata": {
  "kernelspec": {
   "display_name": "Python 3",
   "language": "python",
   "name": "python3"
  },
  "language_info": {
   "codemirror_mode": {
    "name": "ipython",
    "version": 3
   },
   "file_extension": ".py",
   "mimetype": "text/x-python",
   "name": "python",
   "nbconvert_exporter": "python",
   "pygments_lexer": "ipython3",
   "version": "3.7.4"
  }
 },
 "nbformat": 4,
 "nbformat_minor": 2
}
